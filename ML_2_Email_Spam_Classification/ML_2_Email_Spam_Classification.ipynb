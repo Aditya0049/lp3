{
 "cells": [
  {
   "cell_type": "markdown",
   "id": "f0ebb4912c5a6080",
   "metadata": {},
   "source": [
    "# Step 1: Import the required libraries"
   ]
  },
  {
   "cell_type": "code",
   "execution_count": 3,
   "id": "4006f2b8-4a93-4895-9c87-bf6a8d595517",
   "metadata": {},
   "outputs": [
    {
     "name": "stdout",
     "output_type": "stream",
     "text": [
      "Requirement already satisfied: scikit-learn in d:\\anaconda\\lib\\site-packages (1.5.2)\n",
      "Requirement already satisfied: numpy>=1.19.5 in d:\\anaconda\\lib\\site-packages (from scikit-learn) (1.26.4)\n",
      "Requirement already satisfied: scipy>=1.6.0 in c:\\users\\aishu\\appdata\\roaming\\python\\python312\\site-packages (from scikit-learn) (1.14.0)\n",
      "Requirement already satisfied: joblib>=1.2.0 in d:\\anaconda\\lib\\site-packages (from scikit-learn) (1.4.2)\n",
      "Requirement already satisfied: threadpoolctl>=3.1.0 in d:\\anaconda\\lib\\site-packages (from scikit-learn) (3.5.0)\n"
     ]
    }
   ],
   "source": [
    "!pip install scikit-learn"
   ]
  },
  {
   "cell_type": "code",
   "execution_count": 4,
   "id": "529175a1277fa5ef",
   "metadata": {
    "ExecuteTime": {
     "end_time": "2024-11-07T15:20:12.332600Z",
     "start_time": "2024-11-07T15:20:12.322290Z"
    }
   },
   "outputs": [],
   "source": [
    "import pandas as pd\n",
    "import numpy as np\n",
    "import matplotlib.pyplot as plt\n",
    "import seaborn as sns\n",
    "from sklearn.model_selection import train_test_split\n",
    "from sklearn.preprocessing import StandardScaler\n",
    "from sklearn.neighbors import KNeighborsClassifier\n",
    "from sklearn.svm import SVC\n",
    "from sklearn.metrics import accuracy_score, classification_report, confusion_matrix\n",
    "from sklearn.decomposition import PCA\n",
    "import warnings\n",
    "warnings.filterwarnings('ignore')"
   ]
  },
  {
   "cell_type": "markdown",
   "id": "56cab8bf5eed2ac2",
   "metadata": {},
   "source": [
    "# Step 2: Load the dataset"
   ]
  },
  {
   "cell_type": "markdown",
   "id": "7d0237cc655862a0",
   "metadata": {},
   "source": [
    "Replace 'emails.csv' with the path to the dataset file."
   ]
  },
  {
   "cell_type": "code",
   "execution_count": 7,
   "id": "2d4875c61f33d2ce",
   "metadata": {
    "ExecuteTime": {
     "end_time": "2024-11-07T15:20:13.881415Z",
     "start_time": "2024-11-07T15:20:12.463500Z"
    }
   },
   "outputs": [],
   "source": [
    "df = pd.read_csv(\"emails.csv\")"
   ]
  },
  {
   "cell_type": "markdown",
   "id": "454d019fc3f5c8bd",
   "metadata": {},
   "source": [
    "# Step 3: Data Exploration"
   ]
  },
  {
   "cell_type": "code",
   "execution_count": 9,
   "id": "5036eaef3eb87045",
   "metadata": {
    "ExecuteTime": {
     "end_time": "2024-11-07T15:20:13.893468Z",
     "start_time": "2024-11-07T15:20:13.882718Z"
    }
   },
   "outputs": [
    {
     "name": "stdout",
     "output_type": "stream",
     "text": [
      "Dataset Shape: (5172, 3002)\n",
      "Dataset Sample:\n",
      "   Email No.  the  to  ect  and  for  of    a  you  hou  ...  connevey  jay  \\\n",
      "0   Email 1    0   0    1    0    0   0    2    0    0  ...         0    0   \n",
      "1   Email 2    8  13   24    6    6   2  102    1   27  ...         0    0   \n",
      "2   Email 3    0   0    1    0    0   0    8    0    0  ...         0    0   \n",
      "3   Email 4    0   5   22    0    5   1   51    2   10  ...         0    0   \n",
      "4   Email 5    7   6   17    1    5   2   57    0    9  ...         0    0   \n",
      "\n",
      "   valued  lay  infrastructure  military  allowing  ff  dry  Prediction  \n",
      "0       0    0               0         0         0   0    0           0  \n",
      "1       0    0               0         0         0   1    0           0  \n",
      "2       0    0               0         0         0   0    0           0  \n",
      "3       0    0               0         0         0   0    0           0  \n",
      "4       0    0               0         0         0   1    0           0  \n",
      "\n",
      "[5 rows x 3002 columns]\n"
     ]
    }
   ],
   "source": [
    "print(\"Dataset Shape:\", df.shape)\n",
    "print(\"Dataset Sample:\\n\", df.head())"
   ]
  },
  {
   "cell_type": "markdown",
   "id": "dad64c60105a63d7",
   "metadata": {},
   "source": [
    "Check for missing values"
   ]
  },
  {
   "cell_type": "code",
   "execution_count": 11,
   "id": "bfdb3aaab1fef441",
   "metadata": {
    "ExecuteTime": {
     "end_time": "2024-11-07T15:20:13.925358Z",
     "start_time": "2024-11-07T15:20:13.894706Z"
    }
   },
   "outputs": [
    {
     "name": "stdout",
     "output_type": "stream",
     "text": [
      "Missing values:\n",
      " 0\n"
     ]
    }
   ],
   "source": [
    "print(\"Missing values:\\n\", df.isnull().sum().sum())"
   ]
  },
  {
   "cell_type": "markdown",
   "id": "7ef7718a4b7652d4",
   "metadata": {},
   "source": [
    "# Step 4: Data Preprocessing"
   ]
  },
  {
   "cell_type": "markdown",
   "id": "4248f7ec5bd8e9b",
   "metadata": {},
   "source": [
    "Dropping the first column as it is just an email identifier"
   ]
  },
  {
   "cell_type": "code",
   "execution_count": 14,
   "id": "9aa19b03420247fa",
   "metadata": {
    "ExecuteTime": {
     "end_time": "2024-11-07T15:20:13.977606Z",
     "start_time": "2024-11-07T15:20:13.925358Z"
    }
   },
   "outputs": [],
   "source": [
    "df.drop(df.columns[0], axis=1, inplace=True)"
   ]
  },
  {
   "cell_type": "markdown",
   "id": "42982815e2285b6b",
   "metadata": {},
   "source": [
    "Separate features and target variable"
   ]
  },
  {
   "cell_type": "code",
   "execution_count": 16,
   "id": "152e3a5bca596d40",
   "metadata": {
    "ExecuteTime": {
     "end_time": "2024-11-07T15:20:13.985385Z",
     "start_time": "2024-11-07T15:20:13.979364Z"
    }
   },
   "outputs": [],
   "source": [
    "X = df.iloc[:, :-1]\n",
    "y = df.iloc[:, -1]"
   ]
  },
  {
   "cell_type": "markdown",
   "id": "d65d1a12d41dd326",
   "metadata": {},
   "source": [
    "# Step 5: Train-Test Split"
   ]
  },
  {
   "cell_type": "code",
   "execution_count": 18,
   "id": "8311621e8d70c08a",
   "metadata": {
    "ExecuteTime": {
     "end_time": "2024-11-07T15:20:14.091531Z",
     "start_time": "2024-11-07T15:20:13.985385Z"
    }
   },
   "outputs": [],
   "source": [
    "X_train, X_test, y_train, y_test = train_test_split(X, y, test_size=0.3, random_state=42)"
   ]
  },
  {
   "cell_type": "markdown",
   "id": "c9188d7c57bd4b60",
   "metadata": {},
   "source": [
    "# Step 6: Feature Scaling"
   ]
  },
  {
   "cell_type": "code",
   "execution_count": 20,
   "id": "45a70912de987224",
   "metadata": {
    "ExecuteTime": {
     "end_time": "2024-11-07T15:20:14.569036Z",
     "start_time": "2024-11-07T15:20:14.091531Z"
    }
   },
   "outputs": [],
   "source": [
    "scaler = StandardScaler()\n",
    "X_train_scaled = scaler.fit_transform(X_train)\n",
    "X_test_scaled = scaler.transform(X_test)"
   ]
  },
  {
   "cell_type": "markdown",
   "id": "695752c6243b6ff6",
   "metadata": {},
   "source": [
    "# Step 7: Dimensionality Reduction for Visualization"
   ]
  },
  {
   "cell_type": "markdown",
   "id": "ff75d2e016bf0a06",
   "metadata": {},
   "source": [
    "Reduce dimensions to 2 for plotting using PCA"
   ]
  },
  {
   "cell_type": "code",
   "execution_count": 23,
   "id": "1eb0623409ffea9e",
   "metadata": {
    "ExecuteTime": {
     "end_time": "2024-11-07T15:20:14.951485Z",
     "start_time": "2024-11-07T15:20:14.582287Z"
    }
   },
   "outputs": [],
   "source": [
    "pca = PCA(n_components=2)\n",
    "X_train_pca = pca.fit_transform(X_train_scaled)\n",
    "X_test_pca = pca.transform(X_test_scaled)"
   ]
  },
  {
   "cell_type": "markdown",
   "id": "2f5162856bd8bc82",
   "metadata": {},
   "source": [
    "Visualizing the data distribution after PCA"
   ]
  },
  {
   "cell_type": "code",
   "execution_count": 25,
   "id": "1ba8fd1ae572b0e",
   "metadata": {
    "ExecuteTime": {
     "end_time": "2024-11-07T15:20:15.401624Z",
     "start_time": "2024-11-07T15:20:14.951485Z"
    }
   },
   "outputs": [
    {
     "data": {
      "image/png": "[encoded data removed]",
      "text/plain": [
       "<Figure size 1000x600 with 1 Axes>"
      ]
     },
     "metadata": {},
     "output_type": "display_data"
    }
   ],
   "source": [
    "plt.figure(figsize=(10, 6))\n",
    "sns.scatterplot(x=X_train_pca[:, 0], y=X_train_pca[:, 1], hue=y_train, palette=\"coolwarm\", s=60)\n",
    "plt.title(\"Data Distribution After PCA\")\n",
    "plt.xlabel(\"PCA Component 1\")\n",
    "plt.ylabel(\"PCA Component 2\")\n",
    "plt.show()"
   ]
  },
  {
   "cell_type": "markdown",
   "id": "a0592f380ee3c6fc",
   "metadata": {},
   "source": [
    "# Step 8: Model Training and Evaluation - KNN"
   ]
  },
  {
   "cell_type": "code",
   "execution_count": 27,
   "id": "a4f64655392bbf8e",
   "metadata": {
    "ExecuteTime": {
     "end_time": "2024-11-07T15:20:16.075029Z",
     "start_time": "2024-11-07T15:20:15.401624Z"
    }
   },
   "outputs": [],
   "source": [
    "knn = KNeighborsClassifier(n_neighbors=5)\n",
    "knn.fit(X_train_scaled, y_train)\n",
    "y_pred_knn = knn.predict(X_test_scaled)"
   ]
  },
  {
   "cell_type": "markdown",
   "id": "8f02a5bc788e261f",
   "metadata": {},
   "source": [
    "# Step 9: Model Training and Evaluation - SVM"
   ]
  },
  {
   "cell_type": "code",
   "execution_count": 29,
   "id": "dce46eee580cf406",
   "metadata": {
    "ExecuteTime": {
     "end_time": "2024-11-07T15:20:21.343520Z",
     "start_time": "2024-11-07T15:20:16.075029Z"
    }
   },
   "outputs": [],
   "source": [
    "svm = SVC(kernel='linear', random_state=42)\n",
    "svm.fit(X_train_scaled, y_train)\n",
    "y_pred_svm = svm.predict(X_test_scaled)"
   ]
  },
  {
   "cell_type": "markdown",
   "id": "2112739c00d4d0e5",
   "metadata": {},
   "source": [
    "# Step 10: Performance Analysis"
   ]
  },
  {
   "cell_type": "markdown",
   "id": "5987f4572b998afc",
   "metadata": {},
   "source": [
    "Function to display performance metrics"
   ]
  },
  {
   "cell_type": "code",
   "execution_count": 32,
   "id": "1ca1c643c4422d5",
   "metadata": {
    "ExecuteTime": {
     "end_time": "2024-11-07T15:20:21.350689Z",
     "start_time": "2024-11-07T15:20:21.343520Z"
    }
   },
   "outputs": [],
   "source": [
    "def display_metrics(y_true, y_pred, model_name):\n",
    "    print(f\"--- {model_name} ---\")\n",
    "    print(\"Accuracy:\", accuracy_score(y_true, y_pred))\n",
    "    print(\"Classification Report:\\n\", classification_report(y_true, y_pred))\n",
    "    cm = confusion_matrix(y_true, y_pred)\n",
    "    plt.figure(figsize=(6, 4))\n",
    "    sns.heatmap(cm, annot=True, fmt=\"d\", cmap=\"YlGnBu\", cbar=False, xticklabels=['Not Spam', 'Spam'], yticklabels=['Not Spam', 'Spam'])\n",
    "    plt.title(f\"{model_name} Confusion Matrix\")\n",
    "    plt.xlabel(\"Predicted Label\")\n",
    "    plt.ylabel(\"True Label\")\n",
    "    plt.show()"
   ]
  },
  {
   "cell_type": "markdown",
   "id": "2bf9728ae2fc1e25",
   "metadata": {},
   "source": [
    "Display metrics for KNN"
   ]
  },
  {
   "cell_type": "code",
   "execution_count": 34,
   "id": "23921680297daa7d",
   "metadata": {
    "ExecuteTime": {
     "end_time": "2024-11-07T15:20:21.481312Z",
     "start_time": "2024-11-07T15:20:21.351755Z"
    }
   },
   "outputs": [
    {
     "name": "stdout",
     "output_type": "stream",
     "text": [
      "--- K-Nearest Neighbors ---\n",
      "Accuracy: 0.8253865979381443\n",
      "Classification Report:\n",
      "               precision    recall  f1-score   support\n",
      "\n",
      "           0       0.98      0.77      0.86      1097\n",
      "           1       0.63      0.96      0.76       455\n",
      "\n",
      "    accuracy                           0.83      1552\n",
      "   macro avg       0.81      0.86      0.81      1552\n",
      "weighted avg       0.88      0.83      0.83      1552\n",
      "\n"
     ]
    },
    {
     "data": {
      "image/png": "[encoded data removed]",
      "text/plain": [
       "<Figure size 600x400 with 1 Axes>"
      ]
     },
     "metadata": {},
     "output_type": "display_data"
    }
   ],
   "source": [
    "display_metrics(y_test, y_pred_knn, \"K-Nearest Neighbors\")"
   ]
  },
  {
   "cell_type": "markdown",
   "id": "8c8619219abad69e",
   "metadata": {},
   "source": [
    "Display metrics for SVM"
   ]
  },
  {
   "cell_type": "code",
   "execution_count": 36,
   "id": "e08bfbf8be1d87bb",
   "metadata": {
    "ExecuteTime": {
     "end_time": "2024-11-07T15:20:21.599098Z",
     "start_time": "2024-11-07T15:20:21.481312Z"
    }
   },
   "outputs": [
    {
     "name": "stdout",
     "output_type": "stream",
     "text": [
      "--- Support Vector Machine ---\n",
      "Accuracy: 0.9400773195876289\n",
      "Classification Report:\n",
      "               precision    recall  f1-score   support\n",
      "\n",
      "           0       0.96      0.95      0.96      1097\n",
      "           1       0.89      0.91      0.90       455\n",
      "\n",
      "    accuracy                           0.94      1552\n",
      "   macro avg       0.92      0.93      0.93      1552\n",
      "weighted avg       0.94      0.94      0.94      1552\n",
      "\n"
     ]
    },
    {
     "data": {
      "image/png": "[encoded data removed]",
      "text/plain": [
       "<Figure size 600x400 with 1 Axes>"
      ]
     },
     "metadata": {},
     "output_type": "display_data"
    }
   ],
   "source": [
    "display_metrics(y_test, y_pred_svm, \"Support Vector Machine\")"
   ]
  },
  {
   "cell_type": "markdown",
   "id": "8480aa154c57afc7",
   "metadata": {},
   "source": [
    "# Step 11: Compare Model Performance Using a Bar Chart"
   ]
  },
  {
   "cell_type": "code",
   "execution_count": 38,
   "id": "9bc6052f3061347a",
   "metadata": {
    "ExecuteTime": {
     "end_time": "2024-11-07T15:20:21.605458Z",
     "start_time": "2024-11-07T15:20:21.599098Z"
    }
   },
   "outputs": [],
   "source": [
    "knn_accuracy = accuracy_score(y_test, y_pred_knn)\n",
    "svm_accuracy = accuracy_score(y_test, y_pred_svm)\n",
    "model_names = ['K-Nearest Neighbors', 'Support Vector Machine']\n",
    "accuracies = [knn_accuracy, svm_accuracy]"
   ]
  },
  {
   "cell_type": "code",
   "execution_count": 39,
   "id": "initial_id",
   "metadata": {
    "ExecuteTime": {
     "end_time": "2024-11-07T15:20:21.868093Z",
     "start_time": "2024-11-07T15:20:21.605458Z"
    }
   },
   "outputs": [
    {
     "data": {
      "image/png": "[encoded data removed]",
      "text/plain": [
       "<Figure size 800x500 with 1 Axes>"
      ]
     },
     "metadata": {},
     "output_type": "display_data"
    }
   ],
   "source": [
    "plt.figure(figsize=(8, 5))\n",
    "sns.barplot(x=model_names, y=accuracies, palette=\"viridis\")\n",
    "plt.title(\"Comparison of Model Accuracies\")\n",
    "plt.xlabel(\"Model\")\n",
    "plt.ylabel(\"Accuracy\")\n",
    "plt.ylim(0, 1)\n",
    "plt.show()"
   ]
  },
  {
   "cell_type": "markdown",
   "id": "60c94b47bb4902c2",
   "metadata": {},
   "source": [
    "# Step 12: Add Predictions to the Original DataFrame"
   ]
  },
  {
   "cell_type": "markdown",
   "id": "7796759d1533b82e",
   "metadata": {},
   "source": [
    "Compute predictions on the entire dataset (scaled)"
   ]
  },
  {
   "cell_type": "code",
   "execution_count": 42,
   "id": "d1d1e3cc68143aa9",
   "metadata": {
    "ExecuteTime": {
     "end_time": "2024-11-07T15:20:28.448735Z",
     "start_time": "2024-11-07T15:20:21.868093Z"
    }
   },
   "outputs": [],
   "source": [
    "X_scaled = scaler.transform(X)  # Scaling the full feature set for consistency\n",
    "df['KNN_Prediction'] = knn.predict(X_scaled)\n",
    "df['SVM_Prediction'] = svm.predict(X_scaled)"
   ]
  },
  {
   "cell_type": "markdown",
   "id": "b98660891b93b64e",
   "metadata": {},
   "source": [
    "Display the updated DataFrame with predictions"
   ]
  },
  {
   "cell_type": "code",
   "execution_count": 44,
   "id": "a5c7798c152224a3",
   "metadata": {
    "ExecuteTime": {
     "end_time": "2024-11-07T15:20:28.480879Z",
     "start_time": "2024-11-07T15:20:28.448735Z"
    }
   },
   "outputs": [
    {
     "data": {
      "text/html": [
       "<div>\n",
       "<style scoped>\n",
       "    .dataframe tbody tr th:only-of-type {\n",
       "        vertical-align: middle;\n",
       "    }\n",
       "\n",
       "    .dataframe tbody tr th {\n",
       "        vertical-align: top;\n",
       "    }\n",
       "\n",
       "    .dataframe thead th {\n",
       "        text-align: right;\n",
       "    }\n",
       "</style>\n",
       "<table border=\"1\" class=\"dataframe\">\n",
       "  <thead>\n",
       "    <tr style=\"text-align: right;\">\n",
       "      <th></th>\n",
       "      <th>the</th>\n",
       "      <th>to</th>\n",
       "      <th>ect</th>\n",
       "      <th>and</th>\n",
       "      <th>for</th>\n",
       "      <th>of</th>\n",
       "      <th>a</th>\n",
       "      <th>you</th>\n",
       "      <th>hou</th>\n",
       "      <th>in</th>\n",
       "      <th>...</th>\n",
       "      <th>valued</th>\n",
       "      <th>lay</th>\n",
       "      <th>infrastructure</th>\n",
       "      <th>military</th>\n",
       "      <th>allowing</th>\n",
       "      <th>ff</th>\n",
       "      <th>dry</th>\n",
       "      <th>Prediction</th>\n",
       "      <th>KNN_Prediction</th>\n",
       "      <th>SVM_Prediction</th>\n",
       "    </tr>\n",
       "  </thead>\n",
       "  <tbody>\n",
       "    <tr>\n",
       "      <th>0</th>\n",
       "      <td>0</td>\n",
       "      <td>0</td>\n",
       "      <td>1</td>\n",
       "      <td>0</td>\n",
       "      <td>0</td>\n",
       "      <td>0</td>\n",
       "      <td>2</td>\n",
       "      <td>0</td>\n",
       "      <td>0</td>\n",
       "      <td>0</td>\n",
       "      <td>...</td>\n",
       "      <td>0</td>\n",
       "      <td>0</td>\n",
       "      <td>0</td>\n",
       "      <td>0</td>\n",
       "      <td>0</td>\n",
       "      <td>0</td>\n",
       "      <td>0</td>\n",
       "      <td>0</td>\n",
       "      <td>0</td>\n",
       "      <td>0</td>\n",
       "    </tr>\n",
       "    <tr>\n",
       "      <th>1</th>\n",
       "      <td>8</td>\n",
       "      <td>13</td>\n",
       "      <td>24</td>\n",
       "      <td>6</td>\n",
       "      <td>6</td>\n",
       "      <td>2</td>\n",
       "      <td>102</td>\n",
       "      <td>1</td>\n",
       "      <td>27</td>\n",
       "      <td>18</td>\n",
       "      <td>...</td>\n",
       "      <td>0</td>\n",
       "      <td>0</td>\n",
       "      <td>0</td>\n",
       "      <td>0</td>\n",
       "      <td>0</td>\n",
       "      <td>1</td>\n",
       "      <td>0</td>\n",
       "      <td>0</td>\n",
       "      <td>0</td>\n",
       "      <td>0</td>\n",
       "    </tr>\n",
       "    <tr>\n",
       "      <th>2</th>\n",
       "      <td>0</td>\n",
       "      <td>0</td>\n",
       "      <td>1</td>\n",
       "      <td>0</td>\n",
       "      <td>0</td>\n",
       "      <td>0</td>\n",
       "      <td>8</td>\n",
       "      <td>0</td>\n",
       "      <td>0</td>\n",
       "      <td>4</td>\n",
       "      <td>...</td>\n",
       "      <td>0</td>\n",
       "      <td>0</td>\n",
       "      <td>0</td>\n",
       "      <td>0</td>\n",
       "      <td>0</td>\n",
       "      <td>0</td>\n",
       "      <td>0</td>\n",
       "      <td>0</td>\n",
       "      <td>0</td>\n",
       "      <td>0</td>\n",
       "    </tr>\n",
       "    <tr>\n",
       "      <th>3</th>\n",
       "      <td>0</td>\n",
       "      <td>5</td>\n",
       "      <td>22</td>\n",
       "      <td>0</td>\n",
       "      <td>5</td>\n",
       "      <td>1</td>\n",
       "      <td>51</td>\n",
       "      <td>2</td>\n",
       "      <td>10</td>\n",
       "      <td>1</td>\n",
       "      <td>...</td>\n",
       "      <td>0</td>\n",
       "      <td>0</td>\n",
       "      <td>0</td>\n",
       "      <td>0</td>\n",
       "      <td>0</td>\n",
       "      <td>0</td>\n",
       "      <td>0</td>\n",
       "      <td>0</td>\n",
       "      <td>0</td>\n",
       "      <td>0</td>\n",
       "    </tr>\n",
       "    <tr>\n",
       "      <th>4</th>\n",
       "      <td>7</td>\n",
       "      <td>6</td>\n",
       "      <td>17</td>\n",
       "      <td>1</td>\n",
       "      <td>5</td>\n",
       "      <td>2</td>\n",
       "      <td>57</td>\n",
       "      <td>0</td>\n",
       "      <td>9</td>\n",
       "      <td>3</td>\n",
       "      <td>...</td>\n",
       "      <td>0</td>\n",
       "      <td>0</td>\n",
       "      <td>0</td>\n",
       "      <td>0</td>\n",
       "      <td>0</td>\n",
       "      <td>1</td>\n",
       "      <td>0</td>\n",
       "      <td>0</td>\n",
       "      <td>0</td>\n",
       "      <td>0</td>\n",
       "    </tr>\n",
       "    <tr>\n",
       "      <th>...</th>\n",
       "      <td>...</td>\n",
       "      <td>...</td>\n",
       "      <td>...</td>\n",
       "      <td>...</td>\n",
       "      <td>...</td>\n",
       "      <td>...</td>\n",
       "      <td>...</td>\n",
       "      <td>...</td>\n",
       "      <td>...</td>\n",
       "      <td>...</td>\n",
       "      <td>...</td>\n",
       "      <td>...</td>\n",
       "      <td>...</td>\n",
       "      <td>...</td>\n",
       "      <td>...</td>\n",
       "      <td>...</td>\n",
       "      <td>...</td>\n",
       "      <td>...</td>\n",
       "      <td>...</td>\n",
       "      <td>...</td>\n",
       "      <td>...</td>\n",
       "    </tr>\n",
       "    <tr>\n",
       "      <th>5167</th>\n",
       "      <td>2</td>\n",
       "      <td>2</td>\n",
       "      <td>2</td>\n",
       "      <td>3</td>\n",
       "      <td>0</td>\n",
       "      <td>0</td>\n",
       "      <td>32</td>\n",
       "      <td>0</td>\n",
       "      <td>0</td>\n",
       "      <td>5</td>\n",
       "      <td>...</td>\n",
       "      <td>0</td>\n",
       "      <td>0</td>\n",
       "      <td>0</td>\n",
       "      <td>0</td>\n",
       "      <td>0</td>\n",
       "      <td>0</td>\n",
       "      <td>0</td>\n",
       "      <td>0</td>\n",
       "      <td>0</td>\n",
       "      <td>0</td>\n",
       "    </tr>\n",
       "    <tr>\n",
       "      <th>5168</th>\n",
       "      <td>35</td>\n",
       "      <td>27</td>\n",
       "      <td>11</td>\n",
       "      <td>2</td>\n",
       "      <td>6</td>\n",
       "      <td>5</td>\n",
       "      <td>151</td>\n",
       "      <td>4</td>\n",
       "      <td>3</td>\n",
       "      <td>23</td>\n",
       "      <td>...</td>\n",
       "      <td>0</td>\n",
       "      <td>0</td>\n",
       "      <td>0</td>\n",
       "      <td>0</td>\n",
       "      <td>0</td>\n",
       "      <td>1</td>\n",
       "      <td>0</td>\n",
       "      <td>0</td>\n",
       "      <td>0</td>\n",
       "      <td>0</td>\n",
       "    </tr>\n",
       "    <tr>\n",
       "      <th>5169</th>\n",
       "      <td>0</td>\n",
       "      <td>0</td>\n",
       "      <td>1</td>\n",
       "      <td>1</td>\n",
       "      <td>0</td>\n",
       "      <td>0</td>\n",
       "      <td>11</td>\n",
       "      <td>0</td>\n",
       "      <td>0</td>\n",
       "      <td>1</td>\n",
       "      <td>...</td>\n",
       "      <td>0</td>\n",
       "      <td>0</td>\n",
       "      <td>0</td>\n",
       "      <td>0</td>\n",
       "      <td>0</td>\n",
       "      <td>0</td>\n",
       "      <td>0</td>\n",
       "      <td>1</td>\n",
       "      <td>1</td>\n",
       "      <td>1</td>\n",
       "    </tr>\n",
       "    <tr>\n",
       "      <th>5170</th>\n",
       "      <td>2</td>\n",
       "      <td>7</td>\n",
       "      <td>1</td>\n",
       "      <td>0</td>\n",
       "      <td>2</td>\n",
       "      <td>1</td>\n",
       "      <td>28</td>\n",
       "      <td>2</td>\n",
       "      <td>0</td>\n",
       "      <td>8</td>\n",
       "      <td>...</td>\n",
       "      <td>0</td>\n",
       "      <td>0</td>\n",
       "      <td>0</td>\n",
       "      <td>0</td>\n",
       "      <td>0</td>\n",
       "      <td>1</td>\n",
       "      <td>0</td>\n",
       "      <td>1</td>\n",
       "      <td>1</td>\n",
       "      <td>1</td>\n",
       "    </tr>\n",
       "    <tr>\n",
       "      <th>5171</th>\n",
       "      <td>22</td>\n",
       "      <td>24</td>\n",
       "      <td>5</td>\n",
       "      <td>1</td>\n",
       "      <td>6</td>\n",
       "      <td>5</td>\n",
       "      <td>148</td>\n",
       "      <td>8</td>\n",
       "      <td>2</td>\n",
       "      <td>23</td>\n",
       "      <td>...</td>\n",
       "      <td>0</td>\n",
       "      <td>0</td>\n",
       "      <td>0</td>\n",
       "      <td>0</td>\n",
       "      <td>0</td>\n",
       "      <td>0</td>\n",
       "      <td>0</td>\n",
       "      <td>0</td>\n",
       "      <td>0</td>\n",
       "      <td>0</td>\n",
       "    </tr>\n",
       "  </tbody>\n",
       "</table>\n",
       "<p>5172 rows × 3003 columns</p>\n",
       "</div>"
      ],
      "text/plain": [
       "      the  to  ect  and  for  of    a  you  hou  in  ...  valued  lay  \\\n",
       "0       0   0    1    0    0   0    2    0    0   0  ...       0    0   \n",
       "1       8  13   24    6    6   2  102    1   27  18  ...       0    0   \n",
       "2       0   0    1    0    0   0    8    0    0   4  ...       0    0   \n",
       "3       0   5   22    0    5   1   51    2   10   1  ...       0    0   \n",
       "4       7   6   17    1    5   2   57    0    9   3  ...       0    0   \n",
       "...   ...  ..  ...  ...  ...  ..  ...  ...  ...  ..  ...     ...  ...   \n",
       "5167    2   2    2    3    0   0   32    0    0   5  ...       0    0   \n",
       "5168   35  27   11    2    6   5  151    4    3  23  ...       0    0   \n",
       "5169    0   0    1    1    0   0   11    0    0   1  ...       0    0   \n",
       "5170    2   7    1    0    2   1   28    2    0   8  ...       0    0   \n",
       "5171   22  24    5    1    6   5  148    8    2  23  ...       0    0   \n",
       "\n",
       "      infrastructure  military  allowing  ff  dry  Prediction  KNN_Prediction  \\\n",
       "0                  0         0         0   0    0           0               0   \n",
       "1                  0         0         0   1    0           0               0   \n",
       "2                  0         0         0   0    0           0               0   \n",
       "3                  0         0         0   0    0           0               0   \n",
       "4                  0         0         0   1    0           0               0   \n",
       "...              ...       ...       ...  ..  ...         ...             ...   \n",
       "5167               0         0         0   0    0           0               0   \n",
       "5168               0         0         0   1    0           0               0   \n",
       "5169               0         0         0   0    0           1               1   \n",
       "5170               0         0         0   1    0           1               1   \n",
       "5171               0         0         0   0    0           0               0   \n",
       "\n",
       "      SVM_Prediction  \n",
       "0                  0  \n",
       "1                  0  \n",
       "2                  0  \n",
       "3                  0  \n",
       "4                  0  \n",
       "...              ...  \n",
       "5167               0  \n",
       "5168               0  \n",
       "5169               1  \n",
       "5170               1  \n",
       "5171               0  \n",
       "\n",
       "[5172 rows x 3003 columns]"
      ]
     },
     "execution_count": 44,
     "metadata": {},
     "output_type": "execute_result"
    }
   ],
   "source": [
    "df"
   ]
  }
 ],
 "metadata": {
  "kernelspec": {
   "display_name": "Python 3 (ipykernel)",
   "language": "python",
   "name": "python3"
  },
  "language_info": {
   "codemirror_mode": {
    "name": "ipython",
    "version": 3
   },
   "file_extension": ".py",
   "mimetype": "text/x-python",
   "name": "python",
   "nbconvert_exporter": "python",
   "pygments_lexer": "ipython3",
   "version": "3.12.4"
  }
 },
 "nbformat": 4,
 "nbformat_minor": 5
}
